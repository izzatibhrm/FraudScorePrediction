{
  "nbformat": 4,
  "nbformat_minor": 0,
  "metadata": {
    "colab": {
      "provenance": [],
      "authorship_tag": "ABX9TyOVlkx4pByUHIN3+qlQqRfw",
      "include_colab_link": true
    },
    "kernelspec": {
      "name": "python3",
      "display_name": "Python 3"
    },
    "language_info": {
      "name": "python"
    }
  },
  "cells": [
    {
      "cell_type": "markdown",
      "metadata": {
        "id": "view-in-github",
        "colab_type": "text"
      },
      "source": [
        "<a href=\"https://colab.research.google.com/github/izzatibhrm/FraudScorePrediction/blob/main/FraudScorePredictionKNN_v2.ipynb\" target=\"_parent\"><img src=\"https://colab.research.google.com/assets/colab-badge.svg\" alt=\"Open In Colab\"/></a>"
      ]
    },
    {
      "cell_type": "code",
      "execution_count": 1,
      "metadata": {
        "id": "WPlMXk7HvAv0"
      },
      "outputs": [],
      "source": [
        "import numpy as np\n",
        "import pandas as pd\n",
        "from sklearn.impute import KNNImputer\n",
        "\n",
        "df = pd.read_csv('clarity_underwriting_var.csv', low_memory=False)"
      ]
    },
    {
      "cell_type": "code",
      "source": [
        "df.info()"
      ],
      "metadata": {
        "colab": {
          "base_uri": "https://localhost:8080/"
        },
        "id": "KKBx44K_wYKg",
        "outputId": "cfea9840-53f8-4dff-cb04-da7b89607c7d"
      },
      "execution_count": 2,
      "outputs": [
        {
          "output_type": "stream",
          "name": "stdout",
          "text": [
            "<class 'pandas.core.frame.DataFrame'>\n",
            "RangeIndex: 49752 entries, 0 to 49751\n",
            "Data columns (total 46 columns):\n",
            " #   Column                                                                                             Non-Null Count  Dtype  \n",
            "---  ------                                                                                             --------------  -----  \n",
            " 0   .underwritingdataclarity.clearfraud.clearfraudinquiry.thirtydaysago                                49750 non-null  float64\n",
            " 1   .underwritingdataclarity.clearfraud.clearfraudinquiry.twentyfourhoursago                           49750 non-null  float64\n",
            " 2   .underwritingdataclarity.clearfraud.clearfraudinquiry.oneminuteago                                 49750 non-null  float64\n",
            " 3   .underwritingdataclarity.clearfraud.clearfraudinquiry.onehourago                                   49750 non-null  float64\n",
            " 4   .underwritingdataclarity.clearfraud.clearfraudinquiry.ninetydaysago                                49750 non-null  float64\n",
            " 5   .underwritingdataclarity.clearfraud.clearfraudinquiry.sevendaysago                                 49750 non-null  float64\n",
            " 6   .underwritingdataclarity.clearfraud.clearfraudinquiry.tenminutesago                                49750 non-null  float64\n",
            " 7   .underwritingdataclarity.clearfraud.clearfraudinquiry.fifteendaysago                               49750 non-null  float64\n",
            " 8   .underwritingdataclarity.clearfraud.clearfraudinquiry.threesixtyfivedaysago                        49750 non-null  float64\n",
            " 9   .underwritingdataclarity.clearfraud.clearfraudindicator.inquiryonfilecurrentaddressconflict        49712 non-null  float64\n",
            " 10  .underwritingdataclarity.clearfraud.clearfraudindicator.totalnumberoffraudindicators               49735 non-null  float64\n",
            " 11  .underwritingdataclarity.clearfraud.clearfraudindicator.telephonenumberinconsistentwithaddress     49712 non-null  float64\n",
            " 12  .underwritingdataclarity.clearfraud.clearfraudindicator.inquiryageyoungerthanssnissuedate          49712 non-null  float64\n",
            " 13  .underwritingdataclarity.clearfraud.clearfraudindicator.onfileaddresscautious                      49712 non-null  float64\n",
            " 14  .underwritingdataclarity.clearfraud.clearfraudindicator.inquiryaddressnonresidential               49712 non-null  float64\n",
            " 15  .underwritingdataclarity.clearfraud.clearfraudindicator.onfileaddresshighrisk                      49712 non-null  float64\n",
            " 16  .underwritingdataclarity.clearfraud.clearfraudindicator.ssnreportedmorefrequentlyforanother        49712 non-null  float64\n",
            " 17  .underwritingdataclarity.clearfraud.clearfraudindicator.currentaddressreportedbytradeopenlt90days  49712 non-null  float64\n",
            " 18  .underwritingdataclarity.clearfraud.clearfraudindicator.inputssninvalid                            49712 non-null  float64\n",
            " 19  .underwritingdataclarity.clearfraud.clearfraudindicator.inputssnissuedatecannotbeverified          49712 non-null  float64\n",
            " 20  .underwritingdataclarity.clearfraud.clearfraudindicator.inquiryaddresscautious                     49712 non-null  float64\n",
            " 21  .underwritingdataclarity.clearfraud.clearfraudindicator.morethan3inquiriesinthelast30days          49712 non-null  float64\n",
            " 22  .underwritingdataclarity.clearfraud.clearfraudindicator.onfileaddressnonresidential                49712 non-null  float64\n",
            " 23  .underwritingdataclarity.clearfraud.clearfraudindicator.creditestablishedpriortossnissuedate       49712 non-null  float64\n",
            " 24  .underwritingdataclarity.clearfraud.clearfraudindicator.driverlicenseformatinvalid                 44703 non-null  float64\n",
            " 25  .underwritingdataclarity.clearfraud.clearfraudindicator.inputssnrecordedasdeceased                 49712 non-null  float64\n",
            " 26  .underwritingdataclarity.clearfraud.clearfraudindicator.inquiryaddresshighrisk                     49712 non-null  float64\n",
            " 27  .underwritingdataclarity.clearfraud.clearfraudindicator.inquirycurrentaddressnotonfile             49712 non-null  float64\n",
            " 28  .underwritingdataclarity.clearfraud.clearfraudindicator.bestonfilessnissuedatecannotbeverified     49712 non-null  float64\n",
            " 29  .underwritingdataclarity.clearfraud.clearfraudindicator.highprobabilityssnbelongstoanother         49712 non-null  float64\n",
            " 30  .underwritingdataclarity.clearfraud.clearfraudindicator.maxnumberofssnswithanybankaccount          49735 non-null  float64\n",
            " 31  .underwritingdataclarity.clearfraud.clearfraudindicator.bestonfilessnrecordedasdeceased            49712 non-null  float64\n",
            " 32  .underwritingdataclarity.clearfraud.clearfraudindicator.currentaddressreportedbynewtradeonly       49712 non-null  float64\n",
            " 33  .underwritingdataclarity.clearfraud.clearfraudindicator.creditestablishedbeforeage18               49712 non-null  float64\n",
            " 34  .underwritingdataclarity.clearfraud.clearfraudindicator.telephonenumberinconsistentwithstate       49071 non-null  float64\n",
            " 35  .underwritingdataclarity.clearfraud.clearfraudindicator.driverlicenseinconsistentwithonfile        10055 non-null  float64\n",
            " 36  .underwritingdataclarity.clearfraud.clearfraudindicator.workphonepreviouslylistedascellphone       21416 non-null  float64\n",
            " 37  .underwritingdataclarity.clearfraud.clearfraudindicator.workphonepreviouslylistedashomephone       21416 non-null  float64\n",
            " 38  .underwritingdataclarity.clearfraud.clearfraudidentityverification.ssnnamematch                    49720 non-null  float64\n",
            " 39  .underwritingdataclarity.clearfraud.clearfraudidentityverification.nameaddressmatch                49720 non-null  float64\n",
            " 40  .underwritingdataclarity.clearfraud.clearfraudidentityverification.phonematchresult                49712 non-null  float64\n",
            " 41  .underwritingdataclarity.clearfraud.clearfraudidentityverification.overallmatchresult              49720 non-null  float64\n",
            " 42  .underwritingdataclarity.clearfraud.clearfraudidentityverification.ssndobmatch                     49720 non-null  float64\n",
            " 43  .underwritingdataclarity.clearfraud.clearfraudidentityverification.overallmatchreasoncode          49720 non-null  float64\n",
            " 44  clearfraudscore                                                                                    49615 non-null  float64\n",
            " 45  underwritingid                                                                                     49752 non-null  object \n",
            "dtypes: float64(45), object(1)\n",
            "memory usage: 17.5+ MB\n"
          ]
        }
      ]
    },
    {
      "cell_type": "code",
      "source": [
        "df.isnull().sum()"
      ],
      "metadata": {
        "colab": {
          "base_uri": "https://localhost:8080/"
        },
        "id": "8pHMW2B9xGB4",
        "outputId": "472c4839-1145-4637-8bc1-68cfb471cfa0"
      },
      "execution_count": 3,
      "outputs": [
        {
          "output_type": "execute_result",
          "data": {
            "text/plain": [
              ".underwritingdataclarity.clearfraud.clearfraudinquiry.thirtydaysago                                      2\n",
              ".underwritingdataclarity.clearfraud.clearfraudinquiry.twentyfourhoursago                                 2\n",
              ".underwritingdataclarity.clearfraud.clearfraudinquiry.oneminuteago                                       2\n",
              ".underwritingdataclarity.clearfraud.clearfraudinquiry.onehourago                                         2\n",
              ".underwritingdataclarity.clearfraud.clearfraudinquiry.ninetydaysago                                      2\n",
              ".underwritingdataclarity.clearfraud.clearfraudinquiry.sevendaysago                                       2\n",
              ".underwritingdataclarity.clearfraud.clearfraudinquiry.tenminutesago                                      2\n",
              ".underwritingdataclarity.clearfraud.clearfraudinquiry.fifteendaysago                                     2\n",
              ".underwritingdataclarity.clearfraud.clearfraudinquiry.threesixtyfivedaysago                              2\n",
              ".underwritingdataclarity.clearfraud.clearfraudindicator.inquiryonfilecurrentaddressconflict             40\n",
              ".underwritingdataclarity.clearfraud.clearfraudindicator.totalnumberoffraudindicators                    17\n",
              ".underwritingdataclarity.clearfraud.clearfraudindicator.telephonenumberinconsistentwithaddress          40\n",
              ".underwritingdataclarity.clearfraud.clearfraudindicator.inquiryageyoungerthanssnissuedate               40\n",
              ".underwritingdataclarity.clearfraud.clearfraudindicator.onfileaddresscautious                           40\n",
              ".underwritingdataclarity.clearfraud.clearfraudindicator.inquiryaddressnonresidential                    40\n",
              ".underwritingdataclarity.clearfraud.clearfraudindicator.onfileaddresshighrisk                           40\n",
              ".underwritingdataclarity.clearfraud.clearfraudindicator.ssnreportedmorefrequentlyforanother             40\n",
              ".underwritingdataclarity.clearfraud.clearfraudindicator.currentaddressreportedbytradeopenlt90days       40\n",
              ".underwritingdataclarity.clearfraud.clearfraudindicator.inputssninvalid                                 40\n",
              ".underwritingdataclarity.clearfraud.clearfraudindicator.inputssnissuedatecannotbeverified               40\n",
              ".underwritingdataclarity.clearfraud.clearfraudindicator.inquiryaddresscautious                          40\n",
              ".underwritingdataclarity.clearfraud.clearfraudindicator.morethan3inquiriesinthelast30days               40\n",
              ".underwritingdataclarity.clearfraud.clearfraudindicator.onfileaddressnonresidential                     40\n",
              ".underwritingdataclarity.clearfraud.clearfraudindicator.creditestablishedpriortossnissuedate            40\n",
              ".underwritingdataclarity.clearfraud.clearfraudindicator.driverlicenseformatinvalid                    5049\n",
              ".underwritingdataclarity.clearfraud.clearfraudindicator.inputssnrecordedasdeceased                      40\n",
              ".underwritingdataclarity.clearfraud.clearfraudindicator.inquiryaddresshighrisk                          40\n",
              ".underwritingdataclarity.clearfraud.clearfraudindicator.inquirycurrentaddressnotonfile                  40\n",
              ".underwritingdataclarity.clearfraud.clearfraudindicator.bestonfilessnissuedatecannotbeverified          40\n",
              ".underwritingdataclarity.clearfraud.clearfraudindicator.highprobabilityssnbelongstoanother              40\n",
              ".underwritingdataclarity.clearfraud.clearfraudindicator.maxnumberofssnswithanybankaccount               17\n",
              ".underwritingdataclarity.clearfraud.clearfraudindicator.bestonfilessnrecordedasdeceased                 40\n",
              ".underwritingdataclarity.clearfraud.clearfraudindicator.currentaddressreportedbynewtradeonly            40\n",
              ".underwritingdataclarity.clearfraud.clearfraudindicator.creditestablishedbeforeage18                    40\n",
              ".underwritingdataclarity.clearfraud.clearfraudindicator.telephonenumberinconsistentwithstate           681\n",
              ".underwritingdataclarity.clearfraud.clearfraudindicator.driverlicenseinconsistentwithonfile          39697\n",
              ".underwritingdataclarity.clearfraud.clearfraudindicator.workphonepreviouslylistedascellphone         28336\n",
              ".underwritingdataclarity.clearfraud.clearfraudindicator.workphonepreviouslylistedashomephone         28336\n",
              ".underwritingdataclarity.clearfraud.clearfraudidentityverification.ssnnamematch                         32\n",
              ".underwritingdataclarity.clearfraud.clearfraudidentityverification.nameaddressmatch                     32\n",
              ".underwritingdataclarity.clearfraud.clearfraudidentityverification.phonematchresult                     40\n",
              ".underwritingdataclarity.clearfraud.clearfraudidentityverification.overallmatchresult                   32\n",
              ".underwritingdataclarity.clearfraud.clearfraudidentityverification.ssndobmatch                          32\n",
              ".underwritingdataclarity.clearfraud.clearfraudidentityverification.overallmatchreasoncode               32\n",
              "clearfraudscore                                                                                        137\n",
              "underwritingid                                                                                           0\n",
              "dtype: int64"
            ]
          },
          "metadata": {},
          "execution_count": 3
        }
      ]
    },
    {
      "cell_type": "code",
      "source": [
        "num_col = df.select_dtypes(include=[np.number,'float']).columns.to_list()"
      ],
      "metadata": {
        "id": "5LosM-RlxJdK"
      },
      "execution_count": 4,
      "outputs": []
    },
    {
      "cell_type": "code",
      "source": [
        "selected_data = df[num_col]"
      ],
      "metadata": {
        "id": "UEHdX1e-yT60"
      },
      "execution_count": 5,
      "outputs": []
    },
    {
      "cell_type": "code",
      "source": [
        "knn_imputer = KNNImputer(n_neighbors=5)"
      ],
      "metadata": {
        "id": "wVxKHYVxyZpH"
      },
      "execution_count": 6,
      "outputs": []
    },
    {
      "cell_type": "code",
      "source": [
        "imputed = knn_imputer.fit_transform(selected_data)"
      ],
      "metadata": {
        "id": "EYqo3qBqyhyI"
      },
      "execution_count": 7,
      "outputs": []
    },
    {
      "cell_type": "code",
      "source": [
        "imputed_df = pd.DataFrame(imputed, columns=num_col)"
      ],
      "metadata": {
        "id": "KDaSmIys0g0_"
      },
      "execution_count": 8,
      "outputs": []
    },
    {
      "cell_type": "code",
      "source": [
        "imputed_df.isnull().sum()"
      ],
      "metadata": {
        "colab": {
          "base_uri": "https://localhost:8080/"
        },
        "id": "q-aUWGzn0q1Q",
        "outputId": "e76895de-d4c7-472b-9f6b-8025ef30ad0f"
      },
      "execution_count": 9,
      "outputs": [
        {
          "output_type": "execute_result",
          "data": {
            "text/plain": [
              ".underwritingdataclarity.clearfraud.clearfraudinquiry.thirtydaysago                                  0\n",
              ".underwritingdataclarity.clearfraud.clearfraudinquiry.twentyfourhoursago                             0\n",
              ".underwritingdataclarity.clearfraud.clearfraudinquiry.oneminuteago                                   0\n",
              ".underwritingdataclarity.clearfraud.clearfraudinquiry.onehourago                                     0\n",
              ".underwritingdataclarity.clearfraud.clearfraudinquiry.ninetydaysago                                  0\n",
              ".underwritingdataclarity.clearfraud.clearfraudinquiry.sevendaysago                                   0\n",
              ".underwritingdataclarity.clearfraud.clearfraudinquiry.tenminutesago                                  0\n",
              ".underwritingdataclarity.clearfraud.clearfraudinquiry.fifteendaysago                                 0\n",
              ".underwritingdataclarity.clearfraud.clearfraudinquiry.threesixtyfivedaysago                          0\n",
              ".underwritingdataclarity.clearfraud.clearfraudindicator.inquiryonfilecurrentaddressconflict          0\n",
              ".underwritingdataclarity.clearfraud.clearfraudindicator.totalnumberoffraudindicators                 0\n",
              ".underwritingdataclarity.clearfraud.clearfraudindicator.telephonenumberinconsistentwithaddress       0\n",
              ".underwritingdataclarity.clearfraud.clearfraudindicator.inquiryageyoungerthanssnissuedate            0\n",
              ".underwritingdataclarity.clearfraud.clearfraudindicator.onfileaddresscautious                        0\n",
              ".underwritingdataclarity.clearfraud.clearfraudindicator.inquiryaddressnonresidential                 0\n",
              ".underwritingdataclarity.clearfraud.clearfraudindicator.onfileaddresshighrisk                        0\n",
              ".underwritingdataclarity.clearfraud.clearfraudindicator.ssnreportedmorefrequentlyforanother          0\n",
              ".underwritingdataclarity.clearfraud.clearfraudindicator.currentaddressreportedbytradeopenlt90days    0\n",
              ".underwritingdataclarity.clearfraud.clearfraudindicator.inputssninvalid                              0\n",
              ".underwritingdataclarity.clearfraud.clearfraudindicator.inputssnissuedatecannotbeverified            0\n",
              ".underwritingdataclarity.clearfraud.clearfraudindicator.inquiryaddresscautious                       0\n",
              ".underwritingdataclarity.clearfraud.clearfraudindicator.morethan3inquiriesinthelast30days            0\n",
              ".underwritingdataclarity.clearfraud.clearfraudindicator.onfileaddressnonresidential                  0\n",
              ".underwritingdataclarity.clearfraud.clearfraudindicator.creditestablishedpriortossnissuedate         0\n",
              ".underwritingdataclarity.clearfraud.clearfraudindicator.driverlicenseformatinvalid                   0\n",
              ".underwritingdataclarity.clearfraud.clearfraudindicator.inputssnrecordedasdeceased                   0\n",
              ".underwritingdataclarity.clearfraud.clearfraudindicator.inquiryaddresshighrisk                       0\n",
              ".underwritingdataclarity.clearfraud.clearfraudindicator.inquirycurrentaddressnotonfile               0\n",
              ".underwritingdataclarity.clearfraud.clearfraudindicator.bestonfilessnissuedatecannotbeverified       0\n",
              ".underwritingdataclarity.clearfraud.clearfraudindicator.highprobabilityssnbelongstoanother           0\n",
              ".underwritingdataclarity.clearfraud.clearfraudindicator.maxnumberofssnswithanybankaccount            0\n",
              ".underwritingdataclarity.clearfraud.clearfraudindicator.bestonfilessnrecordedasdeceased              0\n",
              ".underwritingdataclarity.clearfraud.clearfraudindicator.currentaddressreportedbynewtradeonly         0\n",
              ".underwritingdataclarity.clearfraud.clearfraudindicator.creditestablishedbeforeage18                 0\n",
              ".underwritingdataclarity.clearfraud.clearfraudindicator.telephonenumberinconsistentwithstate         0\n",
              ".underwritingdataclarity.clearfraud.clearfraudindicator.driverlicenseinconsistentwithonfile          0\n",
              ".underwritingdataclarity.clearfraud.clearfraudindicator.workphonepreviouslylistedascellphone         0\n",
              ".underwritingdataclarity.clearfraud.clearfraudindicator.workphonepreviouslylistedashomephone         0\n",
              ".underwritingdataclarity.clearfraud.clearfraudidentityverification.ssnnamematch                      0\n",
              ".underwritingdataclarity.clearfraud.clearfraudidentityverification.nameaddressmatch                  0\n",
              ".underwritingdataclarity.clearfraud.clearfraudidentityverification.phonematchresult                  0\n",
              ".underwritingdataclarity.clearfraud.clearfraudidentityverification.overallmatchresult                0\n",
              ".underwritingdataclarity.clearfraud.clearfraudidentityverification.ssndobmatch                       0\n",
              ".underwritingdataclarity.clearfraud.clearfraudidentityverification.overallmatchreasoncode            0\n",
              "clearfraudscore                                                                                      0\n",
              "dtype: int64"
            ]
          },
          "metadata": {},
          "execution_count": 9
        }
      ]
    },
    {
      "cell_type": "code",
      "source": [
        "df_combine = pd.concat([imputed_df, df['underwritingid']], axis=1)\n",
        "df_combine.to_csv('clarity_underwritingv7.csv', index=False)"
      ],
      "metadata": {
        "id": "eNmngCH-0yD2"
      },
      "execution_count": 11,
      "outputs": []
    }
  ]
}